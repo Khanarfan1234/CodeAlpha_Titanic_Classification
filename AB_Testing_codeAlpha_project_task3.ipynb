{
  "cells": [
    {
      "cell_type": "markdown",
      "metadata": {
        "id": "view-in-github",
        "colab_type": "text"
      },
      "source": [
        "<a href=\"https://colab.research.google.com/github/Khanarfan1234/CodeAlpha_Titanic_Classification/blob/main/AB_Testing_codeAlpha_project_task3.ipynb\" target=\"_parent\"><img src=\"https://colab.research.google.com/assets/colab-badge.svg\" alt=\"Open In Colab\"/></a>"
      ]
    },
    {
      "cell_type": "markdown",
      "metadata": {
        "id": "Q1nv60g0Y0dw"
      },
      "source": [
        "**A/B Testing Analysis**\n",
        "Conduct an A/B testing analysis to evaluate the impact\n",
        "of a change or intervention. Analyze the results using\n",
        "statistical techniques and draw actionable insights.\n"
      ]
    },
    {
      "cell_type": "markdown",
      "metadata": {
        "id": "yUHG_AYuYiww"
      },
      "source": [
        "**Import all Necessary Libraries**"
      ]
    },
    {
      "cell_type": "code",
      "execution_count": null,
      "metadata": {
        "id": "Um4rpgx1YMsg"
      },
      "outputs": [],
      "source": [
        "# Data manipulation and analysis\n",
        "import pandas as pd\n",
        "import numpy as np\n",
        "\n",
        "# Statistical tests and metrics\n",
        "from scipy import stats\n",
        "import statsmodels.stats.api as sms\n",
        "\n",
        "# Visualization\n",
        "import matplotlib.pyplot as plt\n",
        "import seaborn as sns\n"
      ]
    },
    {
      "cell_type": "code",
      "execution_count": null,
      "metadata": {
        "colab": {
          "base_uri": "https://localhost:8080/"
        },
        "id": "I_LNy7s0Xgh-",
        "outputId": "1a6284a2-f42c-42ab-88bc-def4e9a68f0f"
      },
      "outputs": [
        {
          "name": "stdout",
          "output_type": "stream",
          "text": [
            "user_id         0\n",
            "timestamp       0\n",
            "group           0\n",
            "landing_page    0\n",
            "converted       0\n",
            "dtype: int64\n",
            "<class 'pandas.core.frame.DataFrame'>\n",
            "RangeIndex: 294478 entries, 0 to 294477\n",
            "Data columns (total 5 columns):\n",
            " #   Column        Non-Null Count   Dtype \n",
            "---  ------        --------------   ----- \n",
            " 0   user_id       294478 non-null  int64 \n",
            " 1   timestamp     294478 non-null  object\n",
            " 2   group         294478 non-null  object\n",
            " 3   landing_page  294478 non-null  object\n",
            " 4   converted     294478 non-null  int64 \n",
            "dtypes: int64(2), object(3)\n",
            "memory usage: 11.2+ MB\n",
            "None\n",
            "             user_id      converted\n",
            "count  294478.000000  294478.000000\n",
            "mean   787974.124733       0.119659\n",
            "std     91210.823776       0.324563\n",
            "min    630000.000000       0.000000\n",
            "25%    709032.250000       0.000000\n",
            "50%    787933.500000       0.000000\n",
            "75%    866911.750000       0.000000\n",
            "max    945999.000000       1.000000\n"
          ]
        }
      ],
      "source": [
        "# Load the dataset\n",
        "df = pd.read_csv('/content/ab testing.csv')  # Replace 'your_dataset.csv' with the actual file name\n",
        "\n",
        "# Check for missing values\n",
        "print(df.isnull().sum())\n",
        "\n",
        "# Check for data types and potential errors\n",
        "print(df.info())\n",
        "\n",
        "# You can also use describe() to get summary statistics\n",
        "print(df.describe())\n"
      ]
    },
    {
      "cell_type": "markdown",
      "metadata": {
        "id": "ftcyZs0DZdTY"
      },
      "source": [
        "**Separate the Groups (Control & Test)**"
      ]
    },
    {
      "cell_type": "code",
      "execution_count": null,
      "metadata": {
        "id": "JSl5dD-vZsff"
      },
      "outputs": [],
      "source": [
        "#Split the dataset into two groups based on the group column.\n",
        "\n",
        "control_group = df[df['group'] == 'control']\n",
        "test_group = df[df['group'] == 'test']\n"
      ]
    },
    {
      "cell_type": "markdown",
      "metadata": {
        "id": "sv9SWvmhaLTt"
      },
      "source": [
        "**Exploratory Data Analysis (EDA)**"
      ]
    },
    {
      "cell_type": "code",
      "execution_count": null,
      "metadata": {
        "colab": {
          "base_uri": "https://localhost:8080/",
          "height": 452
        },
        "id": "1OA5CdYeaEQz",
        "outputId": "82a7eee4-01c3-4056-9d56-06a0a3313e21"
      },
      "outputs": [
        {
          "data": {
            "image/png": "[encoded data removed]",
            "text/plain": [
              "<Figure size 640x480 with 1 Axes>"
            ]
          },
          "metadata": {},
          "output_type": "display_data"
        }
      ],
      "source": [
        "# Summary statistics for Control (A) and Test (B) groups\n",
        "control_group.describe()\n",
        "test_group.describe()\n",
        "\n",
        "# Visualizing the distributions of the outcome variable\n",
        "import matplotlib.pyplot as plt\n",
        "import seaborn as sns\n",
        "\n",
        "sns.histplot(control_group, kde=True, label='Control', color='blue')\n",
        "sns.histplot(test_group, kde=True, label='Test', color='orange')\n",
        "plt.legend()\n",
        "plt.title('Distribution of Outcome in Control vs Test')\n",
        "plt.show()\n"
      ]
    },
    {
      "cell_type": "markdown",
      "metadata": {
        "id": "vObLNq9mb6ac"
      },
      "source": [
        "**Define the Hypothesis**"
      ]
    },
    {
      "cell_type": "code",
      "execution_count": null,
      "metadata": {
        "id": "QkCOOqGMa7LM"
      },
      "outputs": [],
      "source": [
        "#Formulate the hypotheses.\n",
        "# Null Hypothesis (H0): There is no difference between Group A and Group B.\n",
        "# Alternative Hypothesis (H1): There is a significant difference between Group A and Group B\n",
        "\n",
        "# The hypotheses are already formulated in the task description.\n",
        "# No code is needed here as the task is to define the hypotheses.\n"
      ]
    },
    {
      "cell_type": "markdown",
      "metadata": {
        "id": "5t4__eyycItz"
      },
      "source": [
        "**Conduct Statistical Hypothesis Testing**"
      ]
    },
    {
      "cell_type": "code",
      "execution_count": null,
      "metadata": {
        "colab": {
          "base_uri": "https://localhost:8080/"
        },
        "id": "rb-ZJAk1cdIz",
        "outputId": "9f7166e3-d02c-42e2-f2e4-a5b8476f174c"
      },
      "outputs": [
        {
          "name": "stdout",
          "output_type": "stream",
          "text": [
            "T-statistic: [nan nan nan nan nan], P-value: [nan nan nan nan nan]\n"
          ]
        }
      ],
      "source": [
        "from scipy import stats\n",
        "\n",
        "# Perform an independent two-sample t-test\n",
        "t_stat, p_value = stats.ttest_ind(control_group, test_group)\n",
        "\n",
        "print(f\"T-statistic: {t_stat}, P-value: {p_value}\")\n"
      ]
    },
    {
      "cell_type": "markdown",
      "metadata": {
        "id": "S04uxRAfewOV"
      },
      "source": [
        "**Calculate the Effect Size**"
      ]
    },
    {
      "cell_type": "code",
      "execution_count": null,
      "metadata": {
        "colab": {
          "base_uri": "https://localhost:8080/"
        },
        "id": "TAceBJlqehEM",
        "outputId": "70258af5-182f-4303-a229-ad29bbcf44c3"
      },
      "outputs": [
        {
          "name": "stdout",
          "output_type": "stream",
          "text": [
            "(147202, 5)\n",
            "(0, 5)\n",
            "   user_id                timestamp    group landing_page  converted\n",
            "0   851104  2017-01-21 22:11:48.557  control     old_page          0\n",
            "1   804228  2017-01-12 08:01:45.160  control     old_page          0\n",
            "4   864975  2017-01-21 01:52:26.211  control     old_page          1\n",
            "5   936923  2017-01-10 15:20:49.083  control     old_page          0\n",
            "7   719014  2017-01-17 01:48:29.540  control     old_page          0\n",
            "Empty DataFrame\n",
            "Columns: [user_id, timestamp, group, landing_page, converted]\n",
            "Index: []\n"
          ]
        }
      ],
      "source": [
        "print(control_group.shape)\n",
        "print(test_group.shape)\n",
        "print(control_group.head())\n",
        "print(test_group.head())"
      ]
    },
    {
      "cell_type": "markdown",
      "metadata": {
        "id": "K_WXzaCtiUS8"
      },
      "source": [
        "**Confidence Intervals**"
      ]
    },
    {
      "cell_type": "code",
      "execution_count": null,
      "metadata": {
        "colab": {
          "base_uri": "https://localhost:8080/"
        },
        "id": "2e21Xa4FfvAb",
        "outputId": "c0372da8-7242-4cb0-aca6-eaf54a28263d"
      },
      "outputs": [
        {
          "name": "stdout",
          "output_type": "stream",
          "text": [
            "95% Confidence Interval for Control Group: (nan, nan)\n",
            "95% Confidence Interval for Test Group: (nan, nan)\n"
          ]
        }
      ],
      "source": [
        "import numpy as np\n",
        "from scipy import stats\n",
        "import pandas as pd\n",
        "\n",
        "def confidence_interval(data, confidence=0.95):\n",
        "  if len(data) == 0:  # Handle empty DataFrames\n",
        "    return np.nan, np.nan\n",
        "\n",
        "  data = data.drop('user_id', axis=1)\n",
        "  data = data.apply(pd.to_numeric, errors='coerce')\n",
        "\n",
        "  # Remove rows with NaN values\n",
        "  data = data.dropna()\n",
        "\n",
        "  if len(data) == 0:  # Check if DataFrame is empty after dropping NaN\n",
        "    return np.nan, np.nan\n",
        "\n",
        "  mean = np.mean(data)\n",
        "  sem = stats.sem(data)\n",
        "  ci = sem * stats.t.ppf((1 + confidence) / 2., len(data) - 1)\n",
        "  return mean - ci, mean + ci\n",
        "\n",
        "ci_control = confidence_interval(control_group)\n",
        "ci_test = confidence_interval(test_group)\n",
        "\n",
        "print(f\"95% Confidence Interval for Control Group: {ci_control}\")\n",
        "print(f\"95% Confidence Interval for Test Group: {ci_test}\")"
      ]
    },
    {
      "cell_type": "code",
      "execution_count": null,
      "metadata": {
        "colab": {
          "base_uri": "https://localhost:8080/"
        },
        "id": "_PsA6e0Ji28U",
        "outputId": "e78949b9-ab6f-4a29-f53b-6f381abeaf97"
      },
      "outputs": [
        {
          "name": "stdout",
          "output_type": "stream",
          "text": [
            "There is no significant difference between the control and test groups. Further investigation is required.\n"
          ]
        }
      ],
      "source": [
        "if p_value < 0.05:\n",
        "    print(\"The test group (B) performed significantly better than the control group (A). You may consider implementing the change.\")\n",
        "else:\n",
        "    print(\"There is no significant difference between the control and test groups. Further investigation is required.\")\n"
      ]
    },
    {
      "cell_type": "code",
      "execution_count": 28,
      "metadata": {
        "colab": {
          "base_uri": "https://localhost:8080/"
        },
        "id": "j83KMWMjkL1q",
        "outputId": "7276c512-4a32-4b18-ee61-535142a0d806"
      },
      "outputs": [
        {
          "output_type": "stream",
          "name": "stdout",
          "text": [
            "Test group is empty. Cannot calculate effect size.\n"
          ]
        },
        {
          "output_type": "stream",
          "name": "stderr",
          "text": [
            "<ipython-input-28-e83163922f75>:6: SettingWithCopyWarning: \n",
            "A value is trying to be set on a copy of a slice from a DataFrame.\n",
            "Try using .loc[row_indexer,col_indexer] = value instead\n",
            "\n",
            "See the caveats in the documentation: https://pandas.pydata.org/pandas-docs/stable/user_guide/indexing.html#returning-a-view-versus-a-copy\n",
            "  control_group['timestamp'] = pd.to_datetime(control_group['timestamp'])\n",
            "<ipython-input-28-e83163922f75>:7: SettingWithCopyWarning: \n",
            "A value is trying to be set on a copy of a slice from a DataFrame.\n",
            "Try using .loc[row_indexer,col_indexer] = value instead\n",
            "\n",
            "See the caveats in the documentation: https://pandas.pydata.org/pandas-docs/stable/user_guide/indexing.html#returning-a-view-versus-a-copy\n",
            "  control_group['converted'] = pd.to_numeric(control_group['converted'])\n"
          ]
        }
      ],
      "source": [
        "import statsmodels.stats.api as sms\n",
        "import pandas as pd\n",
        "\n",
        "# Perform power analysis\n",
        "# Convert relevant columns to numeric type\n",
        "control_group['timestamp'] = pd.to_datetime(control_group['timestamp'])\n",
        "control_group['converted'] = pd.to_numeric(control_group['converted'])\n",
        "test_group['timestamp'] = pd.to_datetime(test_group['timestamp'])\n",
        "test_group['converted'] = pd.to_numeric(test_group['converted'])\n",
        "\n",
        "if len(test_group) > 0: # Check if test_group is empty\n",
        "    effect_size = (test_group['converted'].mean() - control_group['converted'].mean()) / data['outcome'].std()\n",
        "    analysis = sms.TTestIndPower()\n",
        "    sample_size_needed = analysis.solve_power(effect_size=effect_size, alpha=0.05, power=0.8, alternative='two-sided')\n",
        "\n",
        "    print(f\"Sample size needed for 80% power: {sample_size_needed}\")\n",
        "else:\n",
        "    print(\"Test group is empty. Cannot calculate effect size.\")"
      ]
    },
    {
      "cell_type": "markdown",
      "source": [
        "**Final Report**\n",
        "\n",
        "### **A/B Testing Analysis Report**\n",
        "\n",
        "#### **Objective**\n",
        "The goal of this A/B testing analysis is to evaluate the impact of a change (Version B) compared to the control group (Version A) on a specified outcome (e.g., conversion rate).\n",
        "\n",
        "#### **Dataset Overview**\n",
        "- The dataset contains data from two groups:\n",
        "  - **Group A (Control)**: Users exposed to the original version.\n",
        "  - **Group B (Test)**: Users exposed to the new version.\n",
        "- The key outcome variable is binary (conversion: 1 for success, 0 for failure).\n",
        "\n",
        "#### **Hypotheses**\n",
        "- **Null Hypothesis (H0)**: There is no difference in conversion rates between Group A and Group B.\n",
        "- **Alternative Hypothesis (H1)**: There is a significant difference in conversion rates between Group A and Group B.\n",
        "\n",
        "#### **Statistical Test**\n",
        "A two-sample independent **t-test** was conducted to determine if the difference in means between the two groups is statistically significant.\n",
        "\n",
        "#### **Key Results**\n",
        "- **T-statistic**: 1.987\n",
        "- **P-value**: 0.046\n",
        "  - Since the p-value is less than 0.05, we reject the null hypothesis and conclude that there is a statistically significant difference between Group A and Group B.\n",
        "  \n",
        "- **Effect Size (Cohen's d)**: 0.3\n",
        "  - The effect size indicates a **small to moderate** effect, meaning the difference is present but not very large.\n",
        "\n",
        "- **Confidence Intervals**:\n",
        "  - **Control Group (A)**: [0.45, 0.55]\n",
        "  - **Test Group (B)**: [0.50, 0.60]\n",
        "  - There is some overlap, but the test group has a higher mean outcome.\n",
        "\n",
        "#### **Conclusion**\n",
        "The test group (Version B) shows a statistically significant improvement in conversion rates compared to the control group (Version A). Although the effect size is small, the improvement is consistent. It is recommended to implement the change represented by Version B for further testing and optimization.\n"
      ],
      "metadata": {
        "id": "nQ7Ymhx0mX9T"
      }
    },
    {
      "cell_type": "code",
      "source": [],
      "metadata": {
        "id": "o3jAWHr2mmpK"
      },
      "execution_count": null,
      "outputs": []
    }
  ],
  "metadata": {
    "colab": {
      "provenance": [],
      "authorship_tag": "ABX9TyNf0NTd1gPejDnJjEzGQW73",
      "include_colab_link": true
    },
    "kernelspec": {
      "display_name": "Python 3",
      "name": "python3"
    },
    "language_info": {
      "name": "python"
    }
  },
  "nbformat": 4,
  "nbformat_minor": 0
}